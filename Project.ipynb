{
  "cells": [
    {
      "cell_type": "code",
      "execution_count": 1,
      "metadata": {
        "colab": {
          "base_uri": "https://localhost:8080/"
        },
        "id": "odl4NVq3kMzx",
        "outputId": "218927fc-3c7c-4962-8073-9aae983621c1"
      },
      "outputs": [
        {
          "name": "stdout",
          "output_type": "stream",
          "text": [
            "Mounted at /content/drive\n"
          ]
        }
      ],
      "source": [
        "from google.colab import drive\n",
        "drive.mount('/content/drive')"
      ]
    },
    {
      "cell_type": "code",
      "execution_count": 2,
      "metadata": {
        "colab": {
          "base_uri": "https://localhost:8080/"
        },
        "id": "aimVLcbgkUdA",
        "outputId": "9df8741e-01ed-42f2-cc94-a17f800bbc98"
      },
      "outputs": [
        {
          "name": "stdout",
          "output_type": "stream",
          "text": [
            "/content/drive/MyDrive/Colab Notebooks/Tem-adapter\n"
          ]
        }
      ],
      "source": [
        "%cd /content/drive/MyDrive/Colab\\ Notebooks/Tem-adapter"
      ]
    },
    {
      "cell_type": "code",
      "execution_count": 5,
      "metadata": {
        "colab": {
          "base_uri": "https://localhost:8080/"
        },
        "id": "aiag86DEkbc0",
        "outputId": "da9407c0-b2db-4f31-ba35-4cc7e41873e9"
      },
      "outputs": [
        {
          "name": "stdout",
          "output_type": "stream",
          "text": [
            "Collecting scikit-video\n",
            "  Downloading scikit_video-1.1.11-py2.py3-none-any.whl.metadata (1.1 kB)\n",
            "Collecting ftfy\n",
            "  Downloading ftfy-6.3.1-py3-none-any.whl.metadata (7.3 kB)\n",
            "Requirement already satisfied: regex in /usr/local/lib/python3.10/dist-packages (2024.9.11)\n",
            "Requirement already satisfied: tqdm in /usr/local/lib/python3.10/dist-packages (4.66.6)\n",
            "Requirement already satisfied: timm in /usr/local/lib/python3.10/dist-packages (1.0.12)\n",
            "Collecting jsonlines\n",
            "  Downloading jsonlines-4.0.0-py3-none-any.whl.metadata (1.6 kB)\n",
            "Requirement already satisfied: numpy in /usr/local/lib/python3.10/dist-packages (from scikit-video) (1.26.4)\n",
            "Requirement already satisfied: pillow in /usr/local/lib/python3.10/dist-packages (from scikit-video) (11.0.0)\n",
            "Requirement already satisfied: scipy in /usr/local/lib/python3.10/dist-packages (from scikit-video) (1.13.1)\n",
            "Requirement already satisfied: wcwidth in /usr/local/lib/python3.10/dist-packages (from ftfy) (0.2.13)\n",
            "Requirement already satisfied: torch in /usr/local/lib/python3.10/dist-packages (from timm) (2.5.1+cu121)\n",
            "Requirement already satisfied: torchvision in /usr/local/lib/python3.10/dist-packages (from timm) (0.20.1+cu121)\n",
            "Requirement already satisfied: pyyaml in /usr/local/lib/python3.10/dist-packages (from timm) (6.0.2)\n",
            "Requirement already satisfied: huggingface_hub in /usr/local/lib/python3.10/dist-packages (from timm) (0.26.5)\n",
            "Requirement already satisfied: safetensors in /usr/local/lib/python3.10/dist-packages (from timm) (0.4.5)\n",
            "Requirement already satisfied: attrs>=19.2.0 in /usr/local/lib/python3.10/dist-packages (from jsonlines) (24.2.0)\n",
            "Requirement already satisfied: filelock in /usr/local/lib/python3.10/dist-packages (from huggingface_hub->timm) (3.16.1)\n",
            "Requirement already satisfied: fsspec>=2023.5.0 in /usr/local/lib/python3.10/dist-packages (from huggingface_hub->timm) (2024.10.0)\n",
            "Requirement already satisfied: packaging>=20.9 in /usr/local/lib/python3.10/dist-packages (from huggingface_hub->timm) (24.2)\n",
            "Requirement already satisfied: requests in /usr/local/lib/python3.10/dist-packages (from huggingface_hub->timm) (2.32.3)\n",
            "Requirement already satisfied: typing-extensions>=3.7.4.3 in /usr/local/lib/python3.10/dist-packages (from huggingface_hub->timm) (4.12.2)\n",
            "Requirement already satisfied: networkx in /usr/local/lib/python3.10/dist-packages (from torch->timm) (3.4.2)\n",
            "Requirement already satisfied: jinja2 in /usr/local/lib/python3.10/dist-packages (from torch->timm) (3.1.4)\n",
            "Requirement already satisfied: sympy==1.13.1 in /usr/local/lib/python3.10/dist-packages (from torch->timm) (1.13.1)\n",
            "Requirement already satisfied: mpmath<1.4,>=1.1.0 in /usr/local/lib/python3.10/dist-packages (from sympy==1.13.1->torch->timm) (1.3.0)\n",
            "Requirement already satisfied: MarkupSafe>=2.0 in /usr/local/lib/python3.10/dist-packages (from jinja2->torch->timm) (3.0.2)\n",
            "Requirement already satisfied: charset-normalizer<4,>=2 in /usr/local/lib/python3.10/dist-packages (from requests->huggingface_hub->timm) (3.4.0)\n",
            "Requirement already satisfied: idna<4,>=2.5 in /usr/local/lib/python3.10/dist-packages (from requests->huggingface_hub->timm) (3.10)\n",
            "Requirement already satisfied: urllib3<3,>=1.21.1 in /usr/local/lib/python3.10/dist-packages (from requests->huggingface_hub->timm) (2.2.3)\n",
            "Requirement already satisfied: certifi>=2017.4.17 in /usr/local/lib/python3.10/dist-packages (from requests->huggingface_hub->timm) (2024.8.30)\n",
            "Downloading scikit_video-1.1.11-py2.py3-none-any.whl (2.3 MB)\n",
            "\u001b[2K   \u001b[90m━━━━━━━━━━━━━━━━━━━━━━━━━━━━━━━━━━━━━━━━\u001b[0m \u001b[32m2.3/2.3 MB\u001b[0m \u001b[31m53.1 MB/s\u001b[0m eta \u001b[36m0:00:00\u001b[0m\n",
            "\u001b[?25hDownloading ftfy-6.3.1-py3-none-any.whl (44 kB)\n",
            "\u001b[2K   \u001b[90m━━━━━━━━━━━━━━━━━━━━━━━━━━━━━━━━━━━━━━━━\u001b[0m \u001b[32m44.8/44.8 kB\u001b[0m \u001b[31m3.7 MB/s\u001b[0m eta \u001b[36m0:00:00\u001b[0m\n",
            "\u001b[?25hDownloading jsonlines-4.0.0-py3-none-any.whl (8.7 kB)\n",
            "Installing collected packages: jsonlines, ftfy, scikit-video\n",
            "Successfully installed ftfy-6.3.1 jsonlines-4.0.0 scikit-video-1.1.11\n"
          ]
        }
      ],
      "source": [
        "!pip install scikit-video ftfy regex tqdm timm jsonlines"
      ]
    },
    {
      "cell_type": "code",
      "execution_count": 6,
      "metadata": {
        "colab": {
          "base_uri": "https://localhost:8080/"
        },
        "id": "KreWyXIqmUqC",
        "outputId": "3f32b71f-b3d7-433b-e55d-63dbc746a96a"
      },
      "outputs": [
        {
          "name": "stdout",
          "output_type": "stream",
          "text": [
            "Requirement already satisfied: scikit-video in /usr/local/lib/python3.10/dist-packages (1.1.11)\n",
            "Requirement already satisfied: numpy in /usr/local/lib/python3.10/dist-packages (from scikit-video) (1.26.4)\n",
            "Requirement already satisfied: pillow in /usr/local/lib/python3.10/dist-packages (from scikit-video) (11.0.0)\n",
            "Requirement already satisfied: scipy in /usr/local/lib/python3.10/dist-packages (from scikit-video) (1.13.1)\n"
          ]
        }
      ],
      "source": [
        "!pip install scikit-video"
      ]
    },
    {
      "cell_type": "code",
      "execution_count": 7,
      "metadata": {
        "colab": {
          "base_uri": "https://localhost:8080/"
        },
        "id": "yJlN69HnmNaF",
        "outputId": "701d66ce-a5bb-49ed-9c3f-962acb192499"
      },
      "outputs": [
        {
          "name": "stdout",
          "output_type": "stream",
          "text": [
            "Collecting git+https://github.com/openai/CLIP.git\n",
            "  Cloning https://github.com/openai/CLIP.git to /tmp/pip-req-build-d89xoirw\n",
            "  Running command git clone --filter=blob:none --quiet https://github.com/openai/CLIP.git /tmp/pip-req-build-d89xoirw\n",
            "  Resolved https://github.com/openai/CLIP.git to commit dcba3cb2e2827b402d2701e7e1c7d9fed8a20ef1\n",
            "  Preparing metadata (setup.py) ... \u001b[?25l\u001b[?25hdone\n",
            "Requirement already satisfied: ftfy in /usr/local/lib/python3.10/dist-packages (from clip==1.0) (6.3.1)\n",
            "Requirement already satisfied: packaging in /usr/local/lib/python3.10/dist-packages (from clip==1.0) (24.2)\n",
            "Requirement already satisfied: regex in /usr/local/lib/python3.10/dist-packages (from clip==1.0) (2024.9.11)\n",
            "Requirement already satisfied: tqdm in /usr/local/lib/python3.10/dist-packages (from clip==1.0) (4.66.6)\n",
            "Requirement already satisfied: torch in /usr/local/lib/python3.10/dist-packages (from clip==1.0) (2.5.1+cu121)\n",
            "Requirement already satisfied: torchvision in /usr/local/lib/python3.10/dist-packages (from clip==1.0) (0.20.1+cu121)\n",
            "Requirement already satisfied: wcwidth in /usr/local/lib/python3.10/dist-packages (from ftfy->clip==1.0) (0.2.13)\n",
            "Requirement already satisfied: filelock in /usr/local/lib/python3.10/dist-packages (from torch->clip==1.0) (3.16.1)\n",
            "Requirement already satisfied: typing-extensions>=4.8.0 in /usr/local/lib/python3.10/dist-packages (from torch->clip==1.0) (4.12.2)\n",
            "Requirement already satisfied: networkx in /usr/local/lib/python3.10/dist-packages (from torch->clip==1.0) (3.4.2)\n",
            "Requirement already satisfied: jinja2 in /usr/local/lib/python3.10/dist-packages (from torch->clip==1.0) (3.1.4)\n",
            "Requirement already satisfied: fsspec in /usr/local/lib/python3.10/dist-packages (from torch->clip==1.0) (2024.10.0)\n",
            "Requirement already satisfied: sympy==1.13.1 in /usr/local/lib/python3.10/dist-packages (from torch->clip==1.0) (1.13.1)\n",
            "Requirement already satisfied: mpmath<1.4,>=1.1.0 in /usr/local/lib/python3.10/dist-packages (from sympy==1.13.1->torch->clip==1.0) (1.3.0)\n",
            "Requirement already satisfied: numpy in /usr/local/lib/python3.10/dist-packages (from torchvision->clip==1.0) (1.26.4)\n",
            "Requirement already satisfied: pillow!=8.3.*,>=5.3.0 in /usr/local/lib/python3.10/dist-packages (from torchvision->clip==1.0) (11.0.0)\n",
            "Requirement already satisfied: MarkupSafe>=2.0 in /usr/local/lib/python3.10/dist-packages (from jinja2->torch->clip==1.0) (3.0.2)\n",
            "Building wheels for collected packages: clip\n",
            "  Building wheel for clip (setup.py) ... \u001b[?25l\u001b[?25hdone\n",
            "  Created wheel for clip: filename=clip-1.0-py3-none-any.whl size=1369489 sha256=f13c0b9d5c96db7d41117d23a98552a3030245c29f11ebf694bb6f3f3fa6802e\n",
            "  Stored in directory: /tmp/pip-ephem-wheel-cache-b22qggik/wheels/da/2b/4c/d6691fa9597aac8bb85d2ac13b112deb897d5b50f5ad9a37e4\n",
            "Successfully built clip\n",
            "Installing collected packages: clip\n",
            "Successfully installed clip-1.0\n"
          ]
        }
      ],
      "source": [
        "!pip install git+https://github.com/openai/CLIP.git"
      ]
    },
    {
      "cell_type": "code",
      "execution_count": 8,
      "metadata": {
        "colab": {
          "base_uri": "https://localhost:8080/"
        },
        "id": "qTT2ll0VmaIj",
        "outputId": "10d696ae-5ddb-41ce-c7ac-8c3d6e6ae079"
      },
      "outputs": [
        {
          "name": "stdout",
          "output_type": "stream",
          "text": [
            "Requirement already satisfied: easydict in /usr/local/lib/python3.10/dist-packages (from -r requirements.txt (line 1)) (1.13)\n",
            "Requirement already satisfied: h5py in /usr/local/lib/python3.10/dist-packages (from -r requirements.txt (line 2)) (3.12.1)\n",
            "Requirement already satisfied: nltk in /usr/local/lib/python3.10/dist-packages (from -r requirements.txt (line 3)) (3.9.1)\n",
            "Requirement already satisfied: numpy in /usr/local/lib/python3.10/dist-packages (from -r requirements.txt (line 4)) (1.26.4)\n",
            "Requirement already satisfied: pandas in /usr/local/lib/python3.10/dist-packages (from -r requirements.txt (line 5)) (2.2.2)\n",
            "Requirement already satisfied: Pillow in /usr/local/lib/python3.10/dist-packages (from -r requirements.txt (line 6)) (11.0.0)\n",
            "Requirement already satisfied: tqdm in /usr/local/lib/python3.10/dist-packages (from -r requirements.txt (line 7)) (4.66.6)\n",
            "Requirement already satisfied: termcolor in /usr/local/lib/python3.10/dist-packages (from -r requirements.txt (line 8)) (2.5.0)\n",
            "Requirement already satisfied: pyyaml in /usr/local/lib/python3.10/dist-packages (from -r requirements.txt (line 9)) (6.0.2)\n",
            "Requirement already satisfied: click in /usr/local/lib/python3.10/dist-packages (from nltk->-r requirements.txt (line 3)) (8.1.7)\n",
            "Requirement already satisfied: joblib in /usr/local/lib/python3.10/dist-packages (from nltk->-r requirements.txt (line 3)) (1.4.2)\n",
            "Requirement already satisfied: regex>=2021.8.3 in /usr/local/lib/python3.10/dist-packages (from nltk->-r requirements.txt (line 3)) (2024.9.11)\n",
            "Requirement already satisfied: python-dateutil>=2.8.2 in /usr/local/lib/python3.10/dist-packages (from pandas->-r requirements.txt (line 5)) (2.8.2)\n",
            "Requirement already satisfied: pytz>=2020.1 in /usr/local/lib/python3.10/dist-packages (from pandas->-r requirements.txt (line 5)) (2024.2)\n",
            "Requirement already satisfied: tzdata>=2022.7 in /usr/local/lib/python3.10/dist-packages (from pandas->-r requirements.txt (line 5)) (2024.2)\n",
            "Requirement already satisfied: six>=1.5 in /usr/local/lib/python3.10/dist-packages (from python-dateutil>=2.8.2->pandas->-r requirements.txt (line 5)) (1.17.0)\n"
          ]
        }
      ],
      "source": [
        "!pip install -r requirements.txt"
      ]
    },
    {
      "cell_type": "code",
      "execution_count": 3,
      "metadata": {
        "colab": {
          "base_uri": "https://localhost:8080/"
        },
        "id": "YUzBBXzoleOt",
        "outputId": "da124b00-fcc6-42b4-9238-c85099b166d6"
      },
      "outputs": [
        {
          "name": "stdout",
          "output_type": "stream",
          "text": [
            "True\n"
          ]
        }
      ],
      "source": [
        "import torch\n",
        "print(torch.cuda.is_available())"
      ]
    },
    {
      "cell_type": "code",
      "execution_count": null,
      "metadata": {
        "colab": {
          "base_uri": "https://localhost:8080/"
        },
        "id": "2MzQfTvxl-nd",
        "outputId": "120bcd90-22d2-4255-8d10-948ad481291b"
      },
      "outputs": [],
      "source": [
        "!python preprocess/preprocess_features.py --gpu_id 0 --dataset sutd-traffic --model clip_image"
      ]
    },
    {
      "cell_type": "code",
      "execution_count": 12,
      "metadata": {
        "colab": {
          "base_uri": "https://localhost:8080/"
        },
        "id": "RF2FUseJnRcV",
        "outputId": "5edb84ec-6f11-4254-de78-b57a6410d835"
      },
      "outputs": [
        {
          "name": "stdout",
          "output_type": "stream",
          "text": [
            "/usr/local/lib/python3.10/dist-packages/timm/models/layers/__init__.py:48: FutureWarning: Importing from timm.models.layers is deprecated, please import via timm.layers\n",
            "  warnings.warn(f\"Importing from {__name__} is deprecated, please import via timm.layers\", FutureWarning)\n",
            "/content/drive/MyDrive/Colab Notebooks/Tem-adapter/validate.py:112: FutureWarning: You are using `torch.load` with `weights_only=False` (the current default value), which uses the default pickle module implicitly. It is possible to construct malicious pickle data which will execute arbitrary code during unpickling (See https://github.com/pytorch/pytorch/blob/main/SECURITY.md#untrusted-models for more details). In a future release, the default value for `weights_only` will be flipped to `True`. This limits the functions that could be executed during unpickling. Arbitrary objects will no longer be allowed to be loaded via this mode unless they are explicitly allowlisted by the user via `torch.serialization.add_safe_globals`. We recommend you start setting `weights_only=True` for any use case where you don't have full control of the loaded file. Please open an issue on GitHub for any issues related to this experimental feature.\n",
            "  loaded = torch.load(temp_ckpt, map_location='cpu')\n",
            "{'appearance_feat': './data/sutd-traffic/sutd-traffic_appearance_feat.h5', 'annotation_file': './data/sutd-traffic/output_file_test.jsonl', 'batch_size': 128, 'num_workers': 8, 'shuffle': False}\n",
            "number of questions: 6075\n",
            "/usr/local/lib/python3.10/dist-packages/torch/utils/data/dataloader.py:617: UserWarning: This DataLoader will create 8 worker processes in total. Our suggested max number of worker in current system is 2, which is smaller than what this DataLoader is going to create. Please be aware that excessive worker creation might get DataLoader running slow or even freeze, lower the worker number to avoid potential slowness/freeze if necessary.\n",
            "  warnings.warn(\n",
            "/usr/local/lib/python3.10/dist-packages/torch/nn/modules/transformer.py:379: UserWarning: enable_nested_tensor is True, but self.use_nested_tensor is False because encoder_layer.self_attn.batch_first was not True(use batch_first for better inference performance)\n",
            "  warnings.warn(\n",
            "/content/drive/MyDrive/Colab Notebooks/Tem-adapter/validate.py:141: FutureWarning: You are using `torch.load` with `weights_only=False` (the current default value), which uses the default pickle module implicitly. It is possible to construct malicious pickle data which will execute arbitrary code during unpickling (See https://github.com/pytorch/pytorch/blob/main/SECURITY.md#untrusted-models for more details). In a future release, the default value for `weights_only` will be flipped to `True`. This limits the functions that could be executed during unpickling. Arbitrary objects will no longer be allowed to be loaded via this mode unless they are explicitly allowlisted by the user via `torch.serialization.add_safe_globals`. We recommend you start setting `weights_only=True` for any use case where you don't have full control of the loaded file. Please open an issue on GitHub for any issues related to this experimental feature.\n",
            "  loaded_semantic = torch.load(semantic_ckpt, map_location='cpu')\n",
            "100%|███████████████████████████████████████| 338M/338M [00:05<00:00, 69.2MiB/s]\n",
            "validating...\n",
            "  0% 0/48 [00:00<?, ?it/s]/usr/local/lib/python3.10/dist-packages/torch/nn/functional.py:5849: UserWarning: Support for mismatched key_padding_mask and attn_mask is deprecated. Use same type for both instead.\n",
            "  warnings.warn(\n",
            "avg_acc= 0.421875\n",
            "  2% 1/48 [04:26<3:29:02, 266.85s/it]avg_acc= 0.4375\n",
            "  4% 2/48 [04:33<1:27:25, 114.03s/it]avg_acc= 0.4375\n",
            "  6% 3/48 [04:35<47:08, 62.84s/it]   avg_acc= 0.45703125\n",
            "  8% 4/48 [04:37<28:26, 38.80s/it]avg_acc= 0.4625\n",
            " 10% 5/48 [04:39<18:17, 25.51s/it]avg_acc= 0.46875\n",
            " 12% 6/48 [04:41<12:12, 17.45s/it]avg_acc= 0.47433035714285715\n",
            " 15% 7/48 [04:43<08:24, 12.30s/it]avg_acc= 0.4814453125\n",
            " 17% 8/48 [04:45<06:04,  9.11s/it]avg_acc= 0.4782986111111111\n",
            " 19% 9/48 [05:45<16:14, 25.00s/it]avg_acc= 0.46640625\n",
            " 21% 10/48 [05:48<11:29, 18.15s/it]avg_acc= 0.46732954545454547\n",
            " 23% 11/48 [05:49<08:04, 13.11s/it]avg_acc= 0.466796875\n",
            " 25% 12/48 [05:51<05:47,  9.65s/it]avg_acc= 0.4597355769230769\n",
            " 27% 13/48 [05:53<04:14,  7.27s/it]avg_acc= 0.4575892857142857\n",
            " 29% 14/48 [05:55<03:13,  5.70s/it]avg_acc= 0.4546875\n",
            " 31% 15/48 [05:57<02:28,  4.50s/it]avg_acc= 0.4580078125\n",
            " 33% 16/48 [05:59<01:59,  3.74s/it]avg_acc= 0.45450367647058826\n",
            " 35% 17/48 [06:19<04:30,  8.73s/it]avg_acc= 0.4557291666666667\n",
            " 38% 18/48 [06:22<03:32,  7.08s/it]avg_acc= 0.4555921052631579\n",
            " 40% 19/48 [06:24<02:38,  5.48s/it]avg_acc= 0.454296875\n",
            " 42% 20/48 [06:27<02:14,  4.81s/it]avg_acc= 0.45424107142857145\n",
            " 44% 21/48 [06:30<01:49,  4.04s/it]avg_acc= 0.45845170454545453\n",
            " 46% 22/48 [06:31<01:26,  3.34s/it]avg_acc= 0.45516304347826086\n",
            " 48% 23/48 [06:33<01:11,  2.85s/it]avg_acc= 0.4544270833333333\n",
            " 50% 24/48 [06:35<01:00,  2.54s/it]avg_acc= 0.4578125\n",
            " 52% 25/48 [06:44<01:46,  4.62s/it]avg_acc= 0.4558293269230769\n",
            " 54% 26/48 [06:46<01:22,  3.76s/it]avg_acc= 0.4565972222222222\n",
            " 56% 27/48 [06:48<01:06,  3.15s/it]avg_acc= 0.45591517857142855\n",
            " 58% 28/48 [06:49<00:54,  2.73s/it]avg_acc= 0.4566271551724138\n",
            " 60% 29/48 [06:51<00:46,  2.45s/it]avg_acc= 0.45755208333333336\n",
            " 62% 30/48 [06:54<00:44,  2.49s/it]avg_acc= 0.46018145161290325\n",
            " 65% 31/48 [06:56<00:42,  2.47s/it]avg_acc= 0.46044921875\n",
            " 67% 32/48 [06:58<00:37,  2.35s/it]avg_acc= 0.45928030303030304\n",
            " 69% 33/48 [07:01<00:35,  2.38s/it]avg_acc= 0.4607077205882353\n",
            " 71% 34/48 [07:03<00:30,  2.21s/it]avg_acc= 0.4609375\n",
            " 73% 35/48 [07:04<00:27,  2.09s/it]avg_acc= 0.4605034722222222\n",
            " 75% 36/48 [07:06<00:23,  1.97s/it]avg_acc= 0.4594594594594595\n",
            " 77% 37/48 [07:08<00:20,  1.90s/it]avg_acc= 0.4609375\n",
            " 79% 38/48 [07:10<00:19,  1.92s/it]avg_acc= 0.46013621794871795\n",
            " 81% 39/48 [07:12<00:17,  1.93s/it]avg_acc= 0.4607421875\n",
            " 83% 40/48 [07:13<00:14,  1.87s/it]avg_acc= 0.4601753048780488\n",
            " 85% 41/48 [07:15<00:12,  1.82s/it]avg_acc= 0.4609375\n",
            " 88% 42/48 [07:17<00:10,  1.79s/it]avg_acc= 0.46148255813953487\n",
            " 90% 43/48 [07:19<00:08,  1.77s/it]avg_acc= 0.4618252840909091\n",
            " 92% 44/48 [07:20<00:07,  1.76s/it]avg_acc= 0.4605902777777778\n",
            " 94% 45/48 [07:22<00:05,  1.75s/it]avg_acc= 0.46127717391304346\n",
            " 96% 46/48 [07:24<00:03,  1.83s/it]avg_acc= 0.4601063829787234\n",
            " 98% 47/48 [07:26<00:01,  1.88s/it]avg_acc= 0.460082304526749\n",
            "100% 48/48 [07:27<00:00,  9.33s/it]\n",
            "train set size: 6075\n",
            "acc on trainset: 0.460082304526749\n",
            "~~~~~~ Test Accuracy: \u001b[1m\u001b[31m0.4601\u001b[0m ~~~~~~~\n"
          ]
        }
      ],
      "source": [
        "!python validate.py --cfg configs/sutd-traffic_transition.yml"
      ]
    },
    {
      "cell_type": "code",
      "execution_count": 11,
      "metadata": {
        "colab": {
          "base_uri": "https://localhost:8080/"
        },
        "id": "TtFkHA0goBMv",
        "outputId": "26c4cfe0-7c39-4ee5-85e3-8e0f12961a91"
      },
      "outputs": [
        {
          "name": "stdout",
          "output_type": "stream",
          "text": [
            "output_file_test.jsonl  output_file_train.jsonl  sutd-traffic_appearance_feat.h5\n"
          ]
        }
      ],
      "source": [
        "%ls data/sutd-traffic/"
      ]
    },
    {
      "cell_type": "code",
      "execution_count": null,
      "metadata": {
        "id": "p_ruux_ronZT"
      },
      "outputs": [],
      "source": []
    }
  ],
  "metadata": {
    "accelerator": "GPU",
    "colab": {
      "gpuType": "T4",
      "provenance": []
    },
    "kernelspec": {
      "display_name": "Python 3",
      "name": "python3"
    },
    "language_info": {
      "name": "python"
    }
  },
  "nbformat": 4,
  "nbformat_minor": 0
}
